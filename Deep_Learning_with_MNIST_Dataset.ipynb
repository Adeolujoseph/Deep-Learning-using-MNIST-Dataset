{
  "nbformat": 4,
  "nbformat_minor": 0,
  "metadata": {
    "colab": {
      "provenance": []
    },
    "kernelspec": {
      "name": "python3",
      "display_name": "Python 3"
    },
    "language_info": {
      "name": "python"
    },
    "accelerator": "GPU",
    "gpuClass": "standard"
  },
  "cells": [
    {
      "cell_type": "markdown",
      "source": [
        "DEEP NEURAL NETWORK WITH PYTORCH USING MNIST DATASET.\n",
        "\n",
        "The MNIST database of handwritten digits has a training set of 60,000 examples, and a test set of 10,000 examples. It is a subset of a larger set available from NIST. The digits have been size-normalized and centered in a fixed-size image\n",
        "\n",
        "\n",
        "THE ORIGINAL DATA SET CAN BE FOUND IN http://yann.lecun.com/exdb/mnist/"
      ],
      "metadata": {
        "id": "DtO5_hB4P-FY"
      }
    },
    {
      "cell_type": "markdown",
      "source": [
        "Import the data using the mlxtend library\n",
        "\n"
      ],
      "metadata": {
        "id": "6qxwJ1_mRYEA"
      }
    },
    {
      "cell_type": "code",
      "execution_count": 58,
      "metadata": {
        "colab": {
          "base_uri": "https://localhost:8080/"
        },
        "id": "uKvJQ70H_9TY",
        "outputId": "a9928232-2fe8-468e-bbee-9c756f948238"
      },
      "outputs": [
        {
          "output_type": "stream",
          "name": "stdout",
          "text": [
            "\n",
            ">>> END <<<\n"
          ]
        }
      ],
      "source": [
        "from mlxtend.data import loadlocal_mnist\n",
        "import platform\n",
        "\n",
        "if not platform.system() == 'Windows':\n",
        "    Xtrain, ytrain = loadlocal_mnist(images_path='train-images.idx3-ubyte',\n",
        "            labels_path='train-labels.idx1-ubyte')\n",
        "\n",
        "else:\n",
        "    Xtrain, ytrain = loadlocal_mnist(images_path='train-images.idx3-ubyte',\n",
        "            labels_path='train-labels.idx1-ubyte')\n",
        "\n",
        "if not platform.system() == 'Windows':\n",
        "    Xtest, ytest = loadlocal_mnist(\n",
        "            images_path='train-images.idx3-ubyte',\n",
        "            labels_path='train-labels.idx1-ubyte')\n",
        "\n",
        "else:\n",
        "    Xtest, ytest = loadlocal_mnist(\n",
        "            images_path='t10k-images.idx3-ubyte',\n",
        "            labels_path='t10k-labels.idx1-ubyte')\n",
        "print('\\n>>> END <<<')"
      ]
    },
    {
      "cell_type": "markdown",
      "source": [],
      "metadata": {
        "id": "mb2se5CeROEY"
      }
    },
    {
      "cell_type": "code",
      "source": [
        "# Import all pytorch libraries\n",
        "import torch\n",
        "import torch.nn as nn\n",
        "import torch.utils.data as td\n",
        "import matplotlib.pyplot as plt\n",
        "from time import time\n",
        "\n",
        "# Set random seed for reproducability\n",
        "torch.manual_seed(0)\n",
        "\n",
        "print(\"Libraries imported - ready to use PyTorch\", torch.__version__)"
      ],
      "metadata": {
        "colab": {
          "base_uri": "https://localhost:8080/"
        },
        "id": "httjm_NiClrP",
        "outputId": "74f10ac2-e979-44a7-deac-8dc09e89a6a5"
      },
      "execution_count": 59,
      "outputs": [
        {
          "output_type": "stream",
          "name": "stdout",
          "text": [
            "Libraries imported - ready to use PyTorch 1.13.1+cu116\n"
          ]
        }
      ]
    },
    {
      "cell_type": "code",
      "source": [
        "# Convert your  Training Data into Tensor\n",
        "train_x = torch.Tensor(Xtrain).float()\n",
        "train_y = torch.Tensor(ytrain).long()\n",
        "train_ds = td.TensorDataset(train_x,train_y)\n",
        "train_loader = td.DataLoader(train_ds, batch_size=50,\n",
        "    shuffle=False)"
      ],
      "metadata": {
        "id": "wJtP8QzrCw_W"
      },
      "execution_count": 60,
      "outputs": []
    },
    {
      "cell_type": "code",
      "source": [
        "# Convert your  Test Data into Tensor\n",
        "test_x = torch.Tensor(Xtest).float()\n",
        "test_y = torch.Tensor(ytest).long()\n",
        "test_ds = td.TensorDataset(test_x,test_y)\n",
        "test_loader = td.DataLoader(test_ds, batch_size=50,\n",
        "    shuffle=False, num_workers=4)\n",
        "print('Ready to load data')"
      ],
      "metadata": {
        "colab": {
          "base_uri": "https://localhost:8080/"
        },
        "id": "t62JO1gFCsen",
        "outputId": "e96ce47a-d80e-4dce-e542-c1c93329ba45"
      },
      "execution_count": 61,
      "outputs": [
        {
          "output_type": "stream",
          "name": "stdout",
          "text": [
            "Ready to load data\n"
          ]
        },
        {
          "output_type": "stream",
          "name": "stderr",
          "text": [
            "/usr/local/lib/python3.8/dist-packages/torch/utils/data/dataloader.py:554: UserWarning: This DataLoader will create 4 worker processes in total. Our suggested max number of worker in current system is 2, which is smaller than what this DataLoader is going to create. Please be aware that excessive worker creation might get DataLoader running slow or even freeze, lower the worker number to avoid potential slowness/freeze if necessary.\n",
            "  warnings.warn(_create_warning_msg(\n"
          ]
        }
      ]
    },
    {
      "cell_type": "code",
      "source": [
        "# I am using two hidden layers with 128 and 64 units in the layers. Input Features is 784 since we have a 28*28 images and output is 10 since we have 10 labels(0 to 9)\n",
        "# I am using the Relu function twice and LogSoftmax at the output end\n",
        "input_size = 784\n",
        "hidden_sizes = [128, 64]\n",
        "output_size = 10\n",
        "\n",
        "model = nn.Sequential(nn.Linear(input_size, hidden_sizes[0]),\n",
        "                      nn.ReLU(),\n",
        "                      nn.Linear(hidden_sizes[0], hidden_sizes[1]),\n",
        "                      nn.ReLU(),\n",
        "                      nn.Linear(hidden_sizes[1], output_size),\n",
        "                      nn.LogSoftmax(dim=1))\n",
        "print(model)"
      ],
      "metadata": {
        "colab": {
          "base_uri": "https://localhost:8080/"
        },
        "id": "c8Sk-5uODJdH",
        "outputId": "bd54ab57-1345-4016-933f-7d70f03d89a8"
      },
      "execution_count": 62,
      "outputs": [
        {
          "output_type": "stream",
          "name": "stdout",
          "text": [
            "Sequential(\n",
            "  (0): Linear(in_features=784, out_features=128, bias=True)\n",
            "  (1): ReLU()\n",
            "  (2): Linear(in_features=128, out_features=64, bias=True)\n",
            "  (3): ReLU()\n",
            "  (4): Linear(in_features=64, out_features=10, bias=True)\n",
            "  (5): LogSoftmax(dim=1)\n",
            ")\n"
          ]
        }
      ]
    },
    {
      "cell_type": "code",
      "source": [
        "# Define your training model function\n",
        "\n",
        "def train(model, data_loader, optimizer):\n",
        "    # Set the model to training mode\n",
        "    model.train()\n",
        "    train_loss = 0\n",
        "\n",
        "    for batch, tensor in enumerate(data_loader):\n",
        "        data, target = tensor\n",
        "        # feedforward\n",
        "        optimizer.zero_grad()\n",
        "        out = model(data)\n",
        "        loss = loss_criteria(out, target)\n",
        "        train_loss += loss.item()\n",
        "\n",
        "        # backpropagate\n",
        "        loss.backward()\n",
        "        optimizer.step()\n",
        "\n",
        "    # Return average loss\n",
        "    avg_loss = train_loss / (batch + 1)\n",
        "    print('Training set: Average loss: {:.6f}'.format(avg_loss))\n",
        "    return avg_loss"
      ],
      "metadata": {
        "id": "WSjx6ZVKEZq-"
      },
      "execution_count": 63,
      "outputs": []
    },
    {
      "cell_type": "code",
      "source": [
        "# Define your training model function\n",
        "def test(model, data_loader):\n",
        "    # Switch the model to evaluation mode (so we don't backpropagate)\n",
        "    model.eval()\n",
        "    test_loss = 0\n",
        "    correct = 0\n",
        "\n",
        "    with torch.no_grad():\n",
        "        batch_count = 0\n",
        "        for batch, tensor in enumerate(data_loader):\n",
        "            batch_count += 1\n",
        "            data, target = tensor\n",
        "            # Get the predictions\n",
        "            out = model(data)\n",
        "\n",
        "            # calculate the loss\n",
        "            test_loss += loss_criteria(out, target).item()\n",
        "\n",
        "            # Calculate the accuracy\n",
        "            _, predicted = torch.max(out.data, 1)\n",
        "            correct += torch.sum(target == predicted).item()\n",
        "\n",
        "    # Calculate the average loss and total accuracy for this epoch\n",
        "    avg_loss = test_loss / batch_count\n",
        "    print('Validation set: Average loss: {:.6f}, Accuracy: {}/{} ({:.0f}%)\\n'.format(\n",
        "        avg_loss, correct, len(data_loader.dataset),\n",
        "        100. * correct / len(data_loader.dataset)))\n",
        "\n",
        "    # return average loss for the epoch\n",
        "    return avg_loss"
      ],
      "metadata": {
        "id": "8_AXjrE0F92X"
      },
      "execution_count": 64,
      "outputs": []
    },
    {
      "cell_type": "code",
      "source": [
        "# Time to train your model using SGD optimizer to adjust weights, training over 25 epochs with 0.002 learning rate\n",
        "\n",
        "\n",
        "loss_criteria = nn.CrossEntropyLoss()\n",
        "\n",
        "# Use an \"SGD\" optimizer to adjust weights\n",
        "# (see https://pytorch.org/docs/stable/optim.html#algorithms for details of supported algorithms)\n",
        "learning_rate = 0.002\n",
        "optimizer = torch.optim.SGD(model.parameters(), lr=learning_rate)\n",
        "optimizer.zero_grad()\n",
        "\n",
        "# We'll track metrics for each epoch in these arrays\n",
        "epoch_nums = []\n",
        "training_loss = []\n",
        "validation_loss = []\n",
        "\n",
        "# Train over 25 epochs\n",
        "epochs = 25\n",
        "for epoch in range(1, epochs + 1):\n",
        "    # print the epoch number\n",
        "    print('Epoch: {}'.format(epoch))\n",
        "\n",
        "    # Feed training data into the model to optimize the weights\n",
        "    train_loss = train(model, train_loader, optimizer)\n",
        "\n",
        "    # Feed the test data into the model to check its performance\n",
        "    test_loss = test(model, test_loader)\n",
        "\n",
        "    # Log the metrics for this epoch\n",
        "    epoch_nums.append(epoch)\n",
        "    training_loss.append(train_loss)\n",
        "    validation_loss.append(test_loss)"
      ],
      "metadata": {
        "colab": {
          "base_uri": "https://localhost:8080/"
        },
        "id": "lbGAPKTLIUMe",
        "outputId": "b137eb31-5628-4e69-ec91-3ed37fd9b2a4"
      },
      "execution_count": 65,
      "outputs": [
        {
          "output_type": "stream",
          "name": "stdout",
          "text": [
            "Epoch: 1\n",
            "Training set: Average loss: 0.357638\n",
            "Validation set: Average loss: 0.185482, Accuracy: 56566/60000 (94%)\n",
            "\n",
            "Epoch: 2\n",
            "Training set: Average loss: 0.154868\n",
            "Validation set: Average loss: 0.125575, Accuracy: 57650/60000 (96%)\n",
            "\n",
            "Epoch: 3\n",
            "Training set: Average loss: 0.113167\n",
            "Validation set: Average loss: 0.095611, Accuracy: 58217/60000 (97%)\n",
            "\n",
            "Epoch: 4\n",
            "Training set: Average loss: 0.088996\n",
            "Validation set: Average loss: 0.078537, Accuracy: 58521/60000 (98%)\n",
            "\n",
            "Epoch: 5\n",
            "Training set: Average loss: 0.071999\n",
            "Validation set: Average loss: 0.068329, Accuracy: 58682/60000 (98%)\n",
            "\n",
            "Epoch: 6\n",
            "Training set: Average loss: 0.059309\n",
            "Validation set: Average loss: 0.059133, Accuracy: 58854/60000 (98%)\n",
            "\n",
            "Epoch: 7\n",
            "Training set: Average loss: 0.049131\n",
            "Validation set: Average loss: 0.052425, Accuracy: 58988/60000 (98%)\n",
            "\n",
            "Epoch: 8\n",
            "Training set: Average loss: 0.041253\n",
            "Validation set: Average loss: 0.044938, Accuracy: 59117/60000 (99%)\n",
            "\n",
            "Epoch: 9\n",
            "Training set: Average loss: 0.034639\n",
            "Validation set: Average loss: 0.036349, Accuracy: 59309/60000 (99%)\n",
            "\n",
            "Epoch: 10\n",
            "Training set: Average loss: 0.029084\n",
            "Validation set: Average loss: 0.033807, Accuracy: 59369/60000 (99%)\n",
            "\n",
            "Epoch: 11\n",
            "Training set: Average loss: 0.024534\n",
            "Validation set: Average loss: 0.028841, Accuracy: 59458/60000 (99%)\n",
            "\n",
            "Epoch: 12\n",
            "Training set: Average loss: 0.020722\n",
            "Validation set: Average loss: 0.025891, Accuracy: 59515/60000 (99%)\n",
            "\n",
            "Epoch: 13\n",
            "Training set: Average loss: 0.017309\n",
            "Validation set: Average loss: 0.023399, Accuracy: 59567/60000 (99%)\n",
            "\n",
            "Epoch: 14\n",
            "Training set: Average loss: 0.014253\n",
            "Validation set: Average loss: 0.020333, Accuracy: 59636/60000 (99%)\n",
            "\n",
            "Epoch: 15\n",
            "Training set: Average loss: 0.011857\n",
            "Validation set: Average loss: 0.017140, Accuracy: 59678/60000 (99%)\n",
            "\n",
            "Epoch: 16\n",
            "Training set: Average loss: 0.009984\n",
            "Validation set: Average loss: 0.015213, Accuracy: 59718/60000 (100%)\n",
            "\n",
            "Epoch: 17\n",
            "Training set: Average loss: 0.008395\n",
            "Validation set: Average loss: 0.012564, Accuracy: 59783/60000 (100%)\n",
            "\n",
            "Epoch: 18\n",
            "Training set: Average loss: 0.007124\n",
            "Validation set: Average loss: 0.011000, Accuracy: 59816/60000 (100%)\n",
            "\n",
            "Epoch: 19\n",
            "Training set: Average loss: 0.006125\n",
            "Validation set: Average loss: 0.009747, Accuracy: 59845/60000 (100%)\n",
            "\n",
            "Epoch: 20\n",
            "Training set: Average loss: 0.005237\n",
            "Validation set: Average loss: 0.008898, Accuracy: 59857/60000 (100%)\n",
            "\n",
            "Epoch: 21\n",
            "Training set: Average loss: 0.004596\n",
            "Validation set: Average loss: 0.008055, Accuracy: 59881/60000 (100%)\n",
            "\n",
            "Epoch: 22\n",
            "Training set: Average loss: 0.004010\n",
            "Validation set: Average loss: 0.006783, Accuracy: 59913/60000 (100%)\n",
            "\n",
            "Epoch: 23\n",
            "Training set: Average loss: 0.003558\n",
            "Validation set: Average loss: 0.006302, Accuracy: 59919/60000 (100%)\n",
            "\n",
            "Epoch: 24\n",
            "Training set: Average loss: 0.003145\n",
            "Validation set: Average loss: 0.005899, Accuracy: 59924/60000 (100%)\n",
            "\n",
            "Epoch: 25\n",
            "Training set: Average loss: 0.002830\n",
            "Validation set: Average loss: 0.005165, Accuracy: 59943/60000 (100%)\n",
            "\n"
          ]
        }
      ]
    },
    {
      "cell_type": "code",
      "source": [
        "# Compare your training loss with test loss across the epochs to confirm overfitting did not occur. \n",
        "\n",
        "from matplotlib import pyplot as plt\n",
        "\n",
        "plt.plot(epoch_nums, training_loss)\n",
        "plt.plot(epoch_nums, validation_loss)\n",
        "plt.xlabel('epoch')\n",
        "plt.ylabel('loss')\n",
        "plt.legend(['training', 'validation'], loc='upper right')\n",
        "plt.show()"
      ],
      "metadata": {
        "colab": {
          "base_uri": "https://localhost:8080/",
          "height": 279
        },
        "id": "yHqd5o7aKL_P",
        "outputId": "910be734-25c0-4106-88af-0873e49c62b3"
      },
      "execution_count": 66,
      "outputs": [
        {
          "output_type": "display_data",
          "data": {
            "text/plain": [
              "<Figure size 432x288 with 1 Axes>"
            ],
            "image/png": "[encoded data removed]"
          },
          "metadata": {
            "needs_background": "light"
          }
        }
      ]
    },
    {
      "cell_type": "code",
      "source": [
        "# Checking your model parameters\n",
        "\n",
        "for param_tensor in model.state_dict():\n",
        "    print(param_tensor, \"\\n\", model.state_dict()[param_tensor].numpy())"
      ],
      "metadata": {
        "colab": {
          "base_uri": "https://localhost:8080/"
        },
        "id": "suoS9B_SKiUX",
        "outputId": "ed833bdf-96c0-459c-ac84-eafab91d3a01"
      },
      "execution_count": 67,
      "outputs": [
        {
          "output_type": "stream",
          "name": "stdout",
          "text": [
            "0.weight \n",
            " [[-0.00026739  0.0191587  -0.02939447 ...  0.02193558  0.0037326\n",
            "   0.00206033]\n",
            " [-0.01977709 -0.01498127 -0.01044241 ... -0.02026462 -0.00596242\n",
            "  -0.02994578]\n",
            " [-0.02014851  0.01489857 -0.03327596 ... -0.02034389  0.00118167\n",
            "   0.00802764]\n",
            " ...\n",
            " [ 0.00177887 -0.02953604  0.00847977 ... -0.00365933  0.00358359\n",
            "   0.03000653]\n",
            " [-0.02325427 -0.02204831 -0.00639533 ...  0.01152954 -0.03235804\n",
            "  -0.0157676 ]\n",
            " [ 0.03094425  0.00658512  0.01254977 ...  0.02855393  0.03498402\n",
            "  -0.01052008]]\n",
            "0.bias \n",
            " [-0.03207037 -0.00535109  0.0044176  -0.02110947  0.02225574  0.01295186\n",
            "  0.01580637  0.02721006  0.02391339 -0.01566105 -0.00894803  0.02217082\n",
            "  0.00550203  0.00700127 -0.00304629 -0.02495546 -0.03344035 -0.0024478\n",
            " -0.01236635  0.0128282  -0.00479541 -0.01905845 -0.00517931  0.02266741\n",
            "  0.03236941 -0.0356356   0.0028869  -0.00810308  0.02549939 -0.01045082\n",
            " -0.02015546 -0.00567064  0.02184537 -0.01060371  0.00309929  0.0339687\n",
            " -0.01892555 -0.00789491 -0.02070204 -0.0077589  -0.01135365  0.02322062\n",
            "  0.00335844 -0.01628564 -0.00818594  0.02032373 -0.03235337 -0.02440383\n",
            " -0.01515717  0.03469184  0.01350715 -0.01115987 -0.01462033  0.02992798\n",
            " -0.01633575  0.01457711 -0.03398105 -0.02189368 -0.01539756 -0.00785249\n",
            "  0.02292295 -0.03543829 -0.03245751  0.03553788 -0.03095441  0.01839075\n",
            "  0.00291971 -0.00677618  0.01920969 -0.02574509  0.00141019 -0.01245093\n",
            "  0.03551215  0.01851932  0.00880745 -0.01316264  0.01867994  0.00974046\n",
            "  0.0098791   0.00550476  0.02367018 -0.02392856  0.00643776  0.02584762\n",
            "  0.02285517 -0.02570761 -0.02934511  0.01771626  0.02940676  0.00243934\n",
            " -0.00168354  0.00162519 -0.00953946  0.02712141 -0.00026099 -0.01011552\n",
            "  0.00513399  0.01495672 -0.01717425 -0.00688112 -0.01261933  0.03011499\n",
            "  0.00361456  0.01092248 -0.00744359 -0.0145809  -0.01918757  0.00153198\n",
            "  0.02699536  0.01657167 -0.03263421  0.02710911 -0.01333587  0.02528966\n",
            "  0.02326415  0.03124036 -0.03015021 -0.02054706  0.03220051  0.01564931\n",
            "  0.00496144 -0.01806075 -0.02148377  0.02947203  0.0033031   0.01493126\n",
            "  0.00426191  0.03353852]\n",
            "2.weight \n",
            " [[-8.7768488e-02 -3.6533624e-02  6.7524903e-02 ... -8.6399175e-02\n",
            "   1.0092260e-02 -7.3300131e-02]\n",
            " [ 3.0447302e-02  8.1413865e-02  6.5938771e-02 ... -4.4761989e-02\n",
            "   5.3069059e-02  5.4317966e-02]\n",
            " [ 6.9194469e-03 -7.7309455e-03 -1.4002037e-02 ...  7.7669807e-02\n",
            "   5.4566795e-03 -6.1991826e-02]\n",
            " ...\n",
            " [ 1.1091497e-02  5.9040045e-05 -9.5202230e-02 ...  5.5509280e-02\n",
            "   7.3915243e-02  2.0255344e-02]\n",
            " [-8.4633388e-02 -2.2740850e-02 -5.1628366e-02 ...  7.1674086e-02\n",
            "  -2.6593572e-02  9.1560513e-02]\n",
            " [-7.5763106e-02  2.9637476e-02 -1.4973352e-02 ...  7.6508842e-02\n",
            "   7.5852625e-02  5.3697679e-02]]\n",
            "2.bias \n",
            " [ 0.08561353  0.08515218 -0.02765692  0.04277581  0.08781127 -0.03697693\n",
            "  0.03159085 -0.08018332 -0.02465995 -0.01857621  0.0609725   0.00367594\n",
            " -0.06043247 -0.00549495 -0.05994419 -0.00381753 -0.01931268 -0.02306022\n",
            " -0.01308474 -0.02714681  0.02976497 -0.05578754 -0.04682396 -0.07255019\n",
            " -0.01758995  0.00997576 -0.00571909  0.0724797  -0.03172001  0.04041872\n",
            "  0.07739265  0.08792242 -0.04078231 -0.05121121 -0.02396618 -0.04924682\n",
            " -0.03854842 -0.04616434 -0.08344862 -0.05839246  0.06074062 -0.0554934\n",
            " -0.00209411  0.04156186  0.02963662 -0.06291261 -0.03572781  0.07980095\n",
            "  0.05103643 -0.01147915  0.01177081 -0.08490665  0.03150019 -0.08665539\n",
            "  0.08467551  0.04731257  0.00353968  0.03040366  0.02821311 -0.06445446\n",
            " -0.00731148  0.06273535  0.06562507  0.05759395]\n",
            "4.weight \n",
            " [[-8.71512666e-02  9.06678438e-02 -8.92304257e-02 -4.02001664e-02\n",
            "  -4.12660092e-02  8.35568309e-02 -1.47755807e-02 -6.78387806e-02\n",
            "   5.96888829e-03  8.69716853e-02  1.08298762e-02 -1.64385289e-02\n",
            "   1.04590923e-01  7.27400854e-02 -6.82496354e-02 -5.63611127e-02\n",
            "   9.13045257e-02 -2.64395913e-03  1.04407534e-01  7.86142610e-03\n",
            "   5.39283119e-02  1.05274700e-01  1.18233323e-01 -6.19046539e-02\n",
            "   5.60086630e-02 -9.95841101e-02  4.90316004e-02 -6.02331720e-02\n",
            "  -4.43324025e-05 -2.22075358e-02 -5.11065535e-02 -8.70901272e-02\n",
            "   1.53821185e-02 -6.93757236e-02  1.69688910e-01 -5.73523901e-02\n",
            "  -2.73752771e-02 -4.32109199e-02  4.33818474e-02 -1.61775723e-02\n",
            "  -4.58890200e-02  4.81588468e-02  8.17422476e-03 -3.67854610e-02\n",
            "   7.41504729e-02 -2.60704830e-02  8.75005275e-02  6.70102239e-03\n",
            "  -2.19968660e-03 -7.21894801e-02  4.20857081e-03  6.98961318e-02\n",
            "   8.05120617e-02  1.75236955e-01  5.25018619e-03  1.11091934e-01\n",
            "   3.11502814e-02 -1.43237216e-02 -1.20119359e-02  5.43102585e-02\n",
            "  -8.26587752e-02  7.24206865e-02 -1.54617717e-02  7.77570382e-02]\n",
            " [ 1.00425765e-01 -9.94822904e-02  8.06609392e-02 -1.26630515e-01\n",
            "   4.15295027e-02 -8.44341591e-02 -6.68800101e-02  1.50794551e-01\n",
            "  -5.65498415e-03  3.00594382e-02  1.61228608e-02  3.19276080e-02\n",
            "   1.10312440e-01 -4.28751856e-02 -1.05194375e-01 -1.12208299e-01\n",
            "  -1.02332525e-01 -6.17313609e-02  1.14135444e-01  1.17878616e-02\n",
            "   3.04869805e-02 -6.82753399e-02  1.01667590e-01 -8.65653455e-02\n",
            "  -1.03201270e-01  7.67039806e-02 -1.12525038e-01 -3.81349064e-02\n",
            "   8.01988691e-03  2.67208158e-03  1.94574565e-01 -8.29629004e-02\n",
            "   8.26954320e-02  6.82320073e-02  5.16276546e-02 -1.02066688e-01\n",
            "  -2.90024243e-02 -1.08496219e-01  1.17964536e-01 -3.38792913e-02\n",
            "  -7.46637061e-02  1.27591804e-01  1.07267447e-01 -5.95548935e-02\n",
            "   1.39054105e-01  6.18739938e-03  8.53569433e-02 -4.44200672e-02\n",
            "   1.11010507e-01 -2.20713504e-02  1.25372753e-01  6.08342327e-02\n",
            "  -2.85879150e-02  3.13591249e-02 -2.38775350e-02  5.89281460e-03\n",
            "   3.80348340e-02 -7.52089396e-02 -1.27374977e-01  1.00578710e-01\n",
            "   4.43900041e-02 -4.25582230e-02 -5.96501380e-02  5.05619235e-02]\n",
            " [-4.10040580e-02 -1.12882532e-01  1.19306676e-01  5.39285466e-02\n",
            "  -4.32246812e-02 -1.10863984e-01  9.99433398e-02  6.14566132e-02\n",
            "  -4.58673127e-02  1.64426237e-01  1.65446043e-01 -5.64080924e-02\n",
            "   1.11860342e-01  6.44190013e-02  4.20885868e-02 -8.51027071e-02\n",
            "   1.76556766e-01  7.04155192e-02 -5.07605225e-02  6.52965233e-02\n",
            "  -3.10902484e-02  7.57226720e-02 -4.12285589e-02  1.18123889e-01\n",
            "   1.03291713e-01  1.70579720e-02 -4.19766530e-02  1.00727648e-01\n",
            "  -2.99272523e-03  7.13283569e-02  7.76401982e-02  5.25581790e-03\n",
            "  -5.06561548e-02  1.39141440e-01  8.46609399e-02  5.66448718e-02\n",
            "  -9.68369395e-02 -7.83117265e-02 -5.51312566e-02 -9.07158926e-02\n",
            "  -1.32426664e-01 -3.80303115e-02 -6.52115196e-02 -1.24941319e-02\n",
            "   4.22744900e-02  1.77425385e-01  3.78871001e-02 -1.12917356e-01\n",
            "  -1.03007190e-01 -3.49364686e-03 -5.11018783e-02 -5.13321757e-02\n",
            "   5.07063121e-02  5.07622175e-02 -9.46093053e-02  2.36603115e-02\n",
            "   9.74203199e-02 -1.66382529e-02  3.69781815e-02 -9.08785537e-02\n",
            "  -9.88356844e-02  1.36665925e-01 -1.36746287e-01  8.55537597e-03]\n",
            " [-8.27975869e-02  1.14493161e-01  3.51640321e-02 -3.16167180e-03\n",
            "   2.31052767e-02  1.08278980e-02 -1.02427371e-01 -7.33923018e-02\n",
            "  -1.20570503e-01  1.52025431e-01  9.71527398e-02 -1.29487487e-02\n",
            "   5.83867133e-02 -1.20273225e-01  8.49530660e-03  4.22640480e-02\n",
            "  -1.45000607e-01 -7.36315921e-02  2.85785869e-02 -2.27470361e-02\n",
            "  -8.15659836e-02  1.07166506e-01  6.97709247e-03  4.23783809e-02\n",
            "   8.42405334e-02 -1.91797800e-02 -8.00843164e-02  1.28606364e-01\n",
            "  -1.21361129e-01 -6.99659390e-03 -1.18386462e-01  1.83982134e-01\n",
            "  -1.05530895e-01  6.86665028e-02  1.39496014e-01  6.23989627e-02\n",
            "   1.52008116e-01 -7.87544101e-02 -7.82604814e-02 -6.87567294e-02\n",
            "  -8.67843330e-02 -4.95467149e-02 -3.65983099e-02 -1.00651264e-01\n",
            "   1.07768975e-01  1.67571288e-02  4.52184863e-02 -1.10031821e-01\n",
            "   5.65910377e-02 -2.10966952e-02  6.54326156e-02  7.51615390e-02\n",
            "   1.76841050e-01 -7.16829225e-02 -7.98288956e-02  1.13571547e-01\n",
            "   3.85945328e-02  7.21534863e-02  9.90973711e-02 -2.70554945e-02\n",
            "   1.33946806e-01 -1.65530574e-02 -1.05980806e-01  1.02980457e-01]\n",
            " [ 8.13348442e-02  2.69960556e-02 -9.21751261e-02 -2.51526502e-03\n",
            "   2.60084425e-03 -2.20689587e-02 -5.49182557e-02  8.86857808e-02\n",
            "   1.25449302e-03  2.23188680e-02 -1.15150258e-01  1.56369835e-01\n",
            "  -4.26681414e-02  1.03322841e-01 -9.85726342e-02  1.43474713e-02\n",
            "   7.29524195e-02 -1.27090558e-01 -8.65877792e-02 -4.52532806e-02\n",
            "   1.42926397e-02  3.42855044e-02 -3.26111019e-02  1.60432637e-01\n",
            "  -1.19941041e-01 -5.61762229e-03 -4.80534919e-02  7.97187760e-02\n",
            "   3.25270146e-02 -6.31576851e-02  1.40578030e-02 -1.42596394e-01\n",
            "   1.86499029e-01  1.15221545e-01 -9.00488254e-03  2.66660806e-02\n",
            "   3.29647399e-03  1.72258154e-01  7.52692819e-02  1.08974524e-01\n",
            "   1.56040773e-01  7.76372999e-02  7.34846443e-02  1.96572430e-02\n",
            "   8.89707208e-02 -7.66984075e-02  9.16063115e-02 -1.25751868e-01\n",
            "   7.09789693e-02 -6.04454167e-02  5.40200919e-02  7.33803809e-02\n",
            "   4.04733904e-02 -8.95465091e-02 -1.28583848e-01  4.76656742e-02\n",
            "  -1.08217008e-01 -1.37184921e-03 -1.63202286e-02 -8.94336551e-02\n",
            "  -3.69606130e-02  1.98925994e-02 -8.31143409e-02  9.81665477e-02]\n",
            " [ 6.03646822e-02 -1.13620691e-01 -6.34091645e-02  1.22925416e-01\n",
            "  -2.08780374e-02  1.34285748e-01 -2.04064790e-02 -9.33783278e-02\n",
            "   1.58896670e-02 -2.65593827e-02 -1.04950719e-01  5.43288365e-02\n",
            "  -4.22797017e-02  2.90046949e-02  1.73324376e-01 -8.24986026e-02\n",
            "   7.29076415e-02  8.88104141e-02  1.17328512e-02 -2.37588454e-02\n",
            "   1.78387631e-02  1.02802664e-01 -3.85708436e-02  5.16065098e-02\n",
            "   1.03405314e-02 -1.06827937e-01 -1.02329604e-01  1.53829440e-01\n",
            "   4.72276509e-02 -3.20172757e-02  5.18332655e-03  1.69082016e-01\n",
            "   6.27890006e-02  5.17932959e-02 -2.21627625e-03  2.85610240e-02\n",
            "  -9.68177095e-02 -5.30483611e-02 -1.21674508e-01 -3.16739827e-02\n",
            "  -5.09038270e-02  1.93813324e-01  1.23026930e-02 -5.94725721e-02\n",
            "  -1.03530772e-01  6.30617663e-02 -9.26601067e-02 -1.55031485e-02\n",
            "   7.66587108e-02 -3.40171121e-02  6.05984218e-02  1.87754840e-01\n",
            "  -8.58497992e-02 -1.06375836e-01  1.32121250e-01  2.63244305e-02\n",
            "  -4.16384544e-03 -5.01991995e-02 -1.10940546e-01  6.26674592e-02\n",
            "   4.08483483e-02 -1.12889633e-01  1.41404569e-01 -8.99471343e-02]\n",
            " [-4.17654775e-02 -5.83175346e-02 -1.50798829e-02 -5.19322082e-02\n",
            "   2.97050327e-02  3.49237991e-04  1.71693135e-02 -1.07750200e-01\n",
            "  -4.50695679e-02 -4.28119674e-02 -1.36441141e-01 -1.59375831e-01\n",
            "  -4.29573171e-02 -2.57863905e-02  1.28914237e-01  1.31265327e-01\n",
            "  -9.35495198e-02  2.13929992e-02 -6.72599152e-02  8.36780444e-02\n",
            "  -3.84337530e-02 -4.15700041e-02 -9.69894305e-02  7.92212263e-02\n",
            "  -8.97877365e-02  4.97087426e-02  1.76686689e-01  6.90703094e-02\n",
            "  -9.29096043e-02  4.43586335e-02 -2.62421444e-02 -8.01312998e-02\n",
            "  -7.24840015e-02 -9.89309475e-02 -1.20406747e-01 -1.06594697e-01\n",
            "  -1.02507472e-01 -4.83077466e-02 -1.03524625e-01  5.91675285e-03\n",
            "   5.62790297e-02  5.63478582e-02 -1.15103096e-01 -4.49883193e-03\n",
            "   1.07729405e-01  9.51414481e-02  4.85672317e-02 -1.65162310e-02\n",
            "   1.24236055e-01 -6.27990998e-03  3.50304320e-02  1.44148776e-02\n",
            "  -5.56422770e-02  1.39533177e-01 -5.94217665e-02 -1.05618883e-03\n",
            "   3.10218576e-02 -7.90723413e-02 -1.35773914e-02 -4.74273451e-02\n",
            "   5.01441471e-02 -7.92811215e-02  6.35397136e-02 -6.95239678e-02]\n",
            " [ 3.22764814e-02 -5.47762625e-02  1.50031969e-01  5.72131090e-02\n",
            "  -9.41009521e-02 -1.09785080e-01 -1.04357623e-01  1.11018352e-01\n",
            "   1.02368467e-01 -4.20475332e-03 -3.98244858e-02  5.78648150e-02\n",
            "  -1.14324674e-01 -7.30038136e-02  1.30858440e-02  3.24205607e-02\n",
            "   2.80142296e-02  8.88822973e-02 -4.39180396e-02 -1.09302148e-01\n",
            "  -1.09290756e-01 -6.60403594e-02  1.55184641e-01 -2.82869320e-02\n",
            "   2.83814464e-02  1.66551754e-01 -1.73664346e-01  4.92423847e-02\n",
            "  -1.12003818e-01 -1.04755379e-01  1.54414698e-01 -7.69072920e-02\n",
            "  -1.98492017e-02  3.99026312e-02 -4.74208929e-02  7.66365901e-02\n",
            "   4.01492119e-02 -1.47926584e-01  4.25654724e-02  7.59522915e-02\n",
            "   1.59735829e-02 -1.12931617e-01  6.40244260e-02  4.62118611e-02\n",
            "  -5.47921732e-02 -6.08060621e-02 -5.89145310e-02  1.87787279e-01\n",
            "  -7.40797445e-02  1.03233233e-01  1.05307745e-02  1.57890487e-02\n",
            "   1.28549665e-01 -5.32983355e-02 -3.37661766e-02  4.23088931e-02\n",
            "  -4.37313281e-02 -2.25696024e-02  4.29242924e-02 -1.12392060e-01\n",
            "  -2.62561198e-02  1.22676879e-01  2.70468034e-02 -1.30346850e-01]\n",
            " [ 1.84482947e-01 -1.04577020e-02  1.30537838e-01 -6.79108575e-02\n",
            "  -6.11837804e-02 -9.02711526e-02  2.78819874e-02 -6.88427240e-02\n",
            "   1.03437558e-01 -2.19308604e-02 -3.39479111e-02 -6.42353818e-02\n",
            "   1.03695869e-01 -8.81988630e-02 -1.39410272e-01  6.84697852e-02\n",
            "   1.16963059e-01  3.43019441e-02 -1.45096174e-02 -6.22732937e-02\n",
            "  -2.70040948e-02 -1.19523928e-01 -1.72764033e-01 -2.11624075e-02\n",
            "  -9.78074968e-02 -1.43534839e-01 -7.69138485e-02 -1.19153932e-01\n",
            "  -3.31634626e-04 -4.64289337e-02 -5.31834476e-02  1.41039535e-01\n",
            "   5.04004546e-02 -1.41597353e-02  5.02124541e-02 -8.99831112e-03\n",
            "  -1.19021051e-01  1.43701404e-01 -3.90022509e-02 -2.88982484e-02\n",
            "  -1.33801326e-01  3.33212949e-02 -9.00422931e-02  9.20965597e-02\n",
            "   1.80717725e-02  1.82952881e-02 -1.38181627e-01 -9.87469107e-02\n",
            "   2.74847914e-02 -7.11325184e-02 -5.13474569e-02 -1.24281041e-01\n",
            "  -9.77114141e-02 -5.99141866e-02 -8.10271800e-02  9.21056643e-02\n",
            "   5.10517247e-02 -1.53896455e-02  7.94150606e-02  4.56693470e-02\n",
            "   1.66981921e-01  6.70153350e-02  1.63559899e-01 -7.52912909e-02]\n",
            " [ 1.21149160e-01 -7.53891021e-02  5.43715395e-02  8.85211080e-02\n",
            "   8.53208899e-02 -3.99924405e-02 -1.78539660e-02  3.76634337e-02\n",
            "   1.31056488e-01 -4.03308570e-02 -7.73143396e-02  1.80441678e-01\n",
            "  -1.74501203e-02 -8.49225298e-02 -9.59326103e-02 -1.01973623e-01\n",
            "  -9.82945487e-02  2.46816059e-03 -7.78176114e-02 -6.60589663e-03\n",
            "   7.26938769e-02 -5.30887805e-02  4.23318259e-02 -1.92122906e-01\n",
            "  -7.72163197e-02  1.18179753e-01 -9.15541053e-02  1.12882247e-02\n",
            "  -1.06088789e-02  4.44789641e-02 -2.06987113e-02  1.65559173e-01\n",
            "  -6.69279546e-02 -8.30645487e-02  1.49774939e-01 -2.69118901e-02\n",
            "  -1.21442467e-01  1.53023645e-01 -6.70139194e-02  1.48590773e-01\n",
            "  -8.75121262e-03 -9.19797868e-02 -6.94191754e-02  4.89431247e-03\n",
            "  -5.62835932e-02 -1.82473958e-02 -3.30368988e-02 -5.29409200e-02\n",
            "   1.07130796e-01 -1.29745200e-01 -4.42509465e-02  3.12749147e-02\n",
            "  -7.49734491e-02  5.84018305e-02  9.14703235e-02 -5.66074476e-02\n",
            "  -4.74498793e-02  1.94790699e-02  8.63384735e-03 -6.24894351e-02\n",
            "  -6.34337366e-02 -1.40203968e-01  1.40397605e-02 -4.49207686e-02]]\n",
            "4.bias \n",
            " [ 0.1196387  -0.02859135  0.0231899   0.04022597  0.0380584   0.0048772\n",
            "  0.03141054 -0.09193572 -0.06061532 -0.00401401]\n"
          ]
        }
      ]
    },
    {
      "cell_type": "code",
      "source": [
        "# Viewing your model using confusion matrix\n",
        "\n",
        "from sklearn.metrics import confusion_matrix\n",
        "import numpy as np\n",
        "\n",
        "# Set the model to evaluate mode\n",
        "model.eval()\n",
        "\n",
        "# Get predictions for the test data\n",
        "x = torch.Tensor(Xtest).float()\n",
        "_, predicted = torch.max(model(x).data, 1)\n",
        "\n",
        "cm = confusion_matrix(ytest, predicted.numpy())\n",
        "plt.imshow(cm, interpolation=\"nearest\", cmap=plt.cm.Blues)\n",
        "plt.colorbar()\n",
        "tick_marks = np.arange(10)\n",
        "# plt.xticks(tick_marks, 10, rotation=45)\n",
        "# plt.yticks(tick_marks, 10)\n",
        "plt.xlabel(\"Predicted Species\")\n",
        "plt.ylabel(\"Actual Species\")\n",
        "plt.show()"
      ],
      "metadata": {
        "colab": {
          "base_uri": "https://localhost:8080/",
          "height": 279
        },
        "id": "B76EWO7jKohp",
        "outputId": "f0620ac8-e210-459e-d581-04c1f45659a5"
      },
      "execution_count": 68,
      "outputs": [
        {
          "output_type": "display_data",
          "data": {
            "text/plain": [
              "<Figure size 432x288 with 2 Axes>"
            ],
            "image/png": "[encoded data removed]"
          },
          "metadata": {
            "needs_background": "light"
          }
        }
      ]
    },
    {
      "cell_type": "code",
      "source": [
        "# Save your model for reuse \n",
        "\n",
        "model_file = 'models/MNISTclassifier.pt'\n",
        "torch.save(model.state_dict(), model_file)\n",
        "del model #Deleting model parameters\n",
        "print('model saved as', model_file)"
      ],
      "metadata": {
        "colab": {
          "base_uri": "https://localhost:8080/"
        },
        "id": "uOhZMo4rLOwP",
        "outputId": "46d5150e-9eba-4602-8922-d44a553f59c8"
      },
      "execution_count": 47,
      "outputs": [
        {
          "output_type": "stream",
          "name": "stdout",
          "text": [
            "model saved as models/MNISTclassifier.pt\n"
          ]
        }
      ]
    },
    {
      "cell_type": "code",
      "source": [
        "# You can use your model to predict new features as seen below\n",
        "\n",
        "# New features\n",
        "# x_new = define new features \n",
        "# print ('New sample: {}'.format(x_new))\n",
        "\n",
        "# Create a new model class and load weights\n",
        "model = Mymnist()\n",
        "model.load_state_dict(torch.load(model_file))\n",
        "\n",
        "# Set model to evaluation mode\n",
        "model.eval()\n",
        "\n",
        "# Get a prediction for the new data sample\n",
        "# x = torch.Tensor(x_new).float()\n",
        "# _, predicted = torch.max(model(x).data, 1)\n",
        "\n",
        "# print('Prediction:',classes[predicted.item()])"
      ],
      "metadata": {
        "id": "RjRYXxBPMc-y"
      },
      "execution_count": null,
      "outputs": []
    }
  ]
}